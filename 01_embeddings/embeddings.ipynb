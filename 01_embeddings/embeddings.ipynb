{
 "cells": [
  {
   "cell_type": "markdown",
   "metadata": {},
   "source": [
    "# Embeddings: Semantics of the language\n",
    "\n",
    "We have some sentences and want to compare the semantic distance of them.\n",
    "\n",
    "We use Python 3.9 for this."
   ]
  },
  {
   "cell_type": "code",
   "execution_count": null,
   "metadata": {},
   "outputs": [],
   "source": [
    "%pip install sentence-transformers\n",
    "%pip install numpy"
   ]
  },
  {
   "cell_type": "markdown",
   "metadata": {},
   "source": [
    "## 1. The data"
   ]
  },
  {
   "cell_type": "code",
   "execution_count": 6,
   "metadata": {},
   "outputs": [],
   "source": [
    "sentences = [\n",
    "    'The dogs play with the ball on the grass',\n",
    "    'Die Hunde spielen mit dem Ball auf der Rasen',\n",
    "    'The pack rolls around a round thing on the meadow',\n",
    "    'The archer aimed carefully at the target',\n",
    "    'The bowman focused intently on the bullseye',\n",
    "]"
   ]
  },
  {
   "cell_type": "markdown",
   "metadata": {},
   "source": [
    "## 2. Create embeddings using Huggingface models\n",
    "\n",
    "Models can, for example, be found at the [https://huggingface.co/spaces/mteb/leaderboard](https://huggingface.co/spaces/mteb/leaderboard)"
   ]
  },
  {
   "cell_type": "code",
   "execution_count": null,
   "metadata": {},
   "outputs": [],
   "source": [
    "from sentence_transformers import SentenceTransformer\n",
    "\n",
    "model_name = 'intfloat/multilingual-e5-large'\n",
    "#model_name = 'danielheinz/e5-base-sts-en-de'\n",
    "\n",
    "embedding_model = SentenceTransformer(model_name)\n",
    "\n",
    "embeddings = embedding_model.encode(sentences)\n",
    "\n",
    "print(embeddings[0])\n",
    "for embedding in embeddings:\n",
    "    print(len(embedding))\n"
   ]
  },
  {
   "cell_type": "code",
   "execution_count": null,
   "metadata": {},
   "outputs": [],
   "source": [
    "import numpy as np\n",
    "\n",
    "def cosine_similarity(left, right):\n",
    "    return np.dot(left, right) / (np.linalg.norm(left) * np.linalg.norm(right))\n",
    "\n",
    "for i, left in enumerate(sentences):\n",
    "    for j, right in enumerate(sentences):\n",
    "        if j < i:\n",
    "            continue\n",
    "        similarity = cosine_similarity(embeddings[i], embeddings[j])\n",
    "        print(f'{similarity:.4f}: {left} <-> {right}')\n"
   ]
  }
 ],
 "metadata": {
  "kernelspec": {
   "display_name": "Python 3",
   "language": "python",
   "name": "python3"
  },
  "language_info": {
   "codemirror_mode": {
    "name": "ipython",
    "version": 3
   },
   "file_extension": ".py",
   "mimetype": "text/x-python",
   "name": "python",
   "nbconvert_exporter": "python",
   "pygments_lexer": "ipython3",
   "version": "3.9.20"
  }
 },
 "nbformat": 4,
 "nbformat_minor": 2
}
